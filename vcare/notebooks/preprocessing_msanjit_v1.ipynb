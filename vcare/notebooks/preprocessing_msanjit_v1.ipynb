{
 "cells": [
  {
   "cell_type": "code",
   "execution_count": 1,
   "metadata": {},
   "outputs": [],
   "source": [
    "import os\n",
    "import sys"
   ]
  },
  {
   "cell_type": "code",
   "execution_count": 10,
   "metadata": {},
   "outputs": [],
   "source": [
    "import pandas"
   ]
  },
  {
   "cell_type": "code",
   "execution_count": 2,
   "metadata": {},
   "outputs": [],
   "source": [
    "import spacy"
   ]
  },
  {
   "cell_type": "code",
   "execution_count": 3,
   "metadata": {},
   "outputs": [],
   "source": [
    "from spacy.lang.en import English"
   ]
  },
  {
   "cell_type": "code",
   "execution_count": 5,
   "metadata": {},
   "outputs": [],
   "source": [
    "# Spacy - English language model\n",
    "nlp = English()"
   ]
  },
  {
   "cell_type": "code",
   "execution_count": 13,
   "metadata": {},
   "outputs": [],
   "source": [
    "crisis_logger = pandas.read_csv(\"../../Data/CrisisLogger/crisislogger.csv\")"
   ]
  },
  {
   "cell_type": "code",
   "execution_count": 16,
   "metadata": {},
   "outputs": [],
   "source": [
    "crisis_pa_adlt_202004 = pandas.read_csv(\"../../Data/ProlificAcademic/April 2020/Data/CRISIS_Adult_April_2020.csv\")\n",
    "crisis_pa_prnt_202004 = pandas.read_csv(\"../../Data/ProlificAcademic/April 2020/Data/CRISIS_Parent_April_2020.csv\")"
   ]
  },
  {
   "cell_type": "code",
   "execution_count": null,
   "metadata": {},
   "outputs": [],
   "source": [
    "crisis_pa_adlt_202005 = pandas.read_csv(\"../../Data/ProlificAcademic/May 2020/Data/CRISIS_Adult_May_2020.csv\")\n",
    "crisis_pa_prnt_202005 = pandas.read_csv(\"../../Data/ProlificAcademic/May 2020/Data/CRISIS_Parent_May_2020.csv\")"
   ]
  },
  {
   "cell_type": "code",
   "execution_count": null,
   "metadata": {},
   "outputs": [],
   "source": [
    "crisis_pa_adlt_202011 = pandas.read_csv(\"../../Data/ProlificAcademic/November 2020/Data/CRISIS_Adult_November_2020.csv\")\n",
    "crisis_pa_prnt_202011 = pandas.read_csv(\"../../Data/ProlificAcademic/November 2020/Data/CRISIS_Parent_November_2020.csv\")"
   ]
  },
  {
   "cell_type": "code",
   "execution_count": null,
   "metadata": {},
   "outputs": [],
   "source": [
    "crisis_pa_adlt_202104 = pandas.read_csv(\"../../Data/ProlificAcademic/April 2021/Data/CRISIS_Adult_April_2021.csv\")\n",
    "crisis_pa_prnt_202104 = pandas.read_csv(\"../../Data/ProlificAcademic/April 2021/Data/CRISIS_Parent_April_2021.csv\")"
   ]
  },
  {
   "cell_type": "code",
   "execution_count": 6,
   "metadata": {},
   "outputs": [],
   "source": [
    "# List of parsed crisis logger documents\n",
    "crisis_logger_docs = list()"
   ]
  },
  {
   "cell_type": "code",
   "execution_count": null,
   "metadata": {},
   "outputs": [],
   "source": []
  }
 ],
 "metadata": {
  "interpreter": {
   "hash": "e8e10bb94bd72e70daca3910ee5e6d2b55da05994666c8b601fd72d7cb0aee40"
  },
  "kernelspec": {
   "display_name": "Python 3.9.7 64-bit ('base': conda)",
   "language": "python",
   "name": "python3"
  },
  "language_info": {
   "codemirror_mode": {
    "name": "ipython",
    "version": 3
   },
   "file_extension": ".py",
   "mimetype": "text/x-python",
   "name": "python",
   "nbconvert_exporter": "python",
   "pygments_lexer": "ipython3",
   "version": "3.9.7"
  },
  "orig_nbformat": 4
 },
 "nbformat": 4,
 "nbformat_minor": 2
}
