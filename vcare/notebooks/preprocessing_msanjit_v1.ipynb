{
 "cells": [
  {
   "cell_type": "code",
   "execution_count": 1,
   "metadata": {},
   "outputs": [],
   "source": [
    "import os\n",
    "import sys"
   ]
  },
  {
   "cell_type": "code",
   "execution_count": 2,
   "metadata": {},
   "outputs": [],
   "source": [
    "import numpy\n",
    "import pandas"
   ]
  },
  {
   "cell_type": "code",
   "execution_count": 3,
   "metadata": {},
   "outputs": [],
   "source": [
    "import spacy"
   ]
  },
  {
   "cell_type": "code",
   "execution_count": 4,
   "metadata": {},
   "outputs": [],
   "source": [
    "import  contractions"
   ]
  },
  {
   "cell_type": "code",
   "execution_count": 5,
   "metadata": {},
   "outputs": [],
   "source": [
    "import spellchecker"
   ]
  },
  {
   "cell_type": "code",
   "execution_count": 6,
   "metadata": {},
   "outputs": [],
   "source": [
    "import missingno"
   ]
  },
  {
   "cell_type": "code",
   "execution_count": 86,
   "metadata": {},
   "outputs": [],
   "source": [
    "import sklearn"
   ]
  },
  {
   "cell_type": "code",
   "execution_count": 231,
   "metadata": {},
   "outputs": [],
   "source": [
    "import sklearn.cluster\n",
    "import sklearn.metrics\n",
    "import sklearn.ensemble\n",
    "import sklearn.model_selection"
   ]
  },
  {
   "cell_type": "code",
   "execution_count": 190,
   "metadata": {},
   "outputs": [],
   "source": [
    "from sklearn.cluster import AgglomerativeClustering\n",
    "from sklearn.cluster import KMeans\n",
    "from sklearn.cluster import FeatureAgglomeration"
   ]
  },
  {
   "cell_type": "code",
   "execution_count": 216,
   "metadata": {},
   "outputs": [],
   "source": [
    "from sklearn.ensemble import GradientBoostingClassifier\n",
    "from sklearn.ensemble import RandomForestClassifier"
   ]
  },
  {
   "cell_type": "code",
   "execution_count": 237,
   "metadata": {},
   "outputs": [],
   "source": [
    "from sklearn.model_selection import train_test_split"
   ]
  },
  {
   "cell_type": "code",
   "execution_count": 238,
   "metadata": {},
   "outputs": [],
   "source": [
    "from sklearn.metrics import confusion_matrix\n",
    "from sklearn.metrics import roc_auc_score"
   ]
  },
  {
   "cell_type": "code",
   "execution_count": 7,
   "metadata": {},
   "outputs": [],
   "source": [
    "crisis_logger = pandas.read_csv(\"../../Data/CrisisLogger/crisislogger.csv\")"
   ]
  },
  {
   "cell_type": "code",
   "execution_count": 8,
   "metadata": {},
   "outputs": [],
   "source": [
    "crisis_pa_adlt_202004 = pandas.read_csv(\"../../Data/ProlificAcademic/April 2020/Data/CRISIS_Adult_April_2020.csv\")\n",
    "crisis_pa_prnt_202004 = pandas.read_csv(\"../../Data/ProlificAcademic/April 2020/Data/CRISIS_Parent_April_2020.csv\")\n",
    "crisis_pa_adlt_202004[\"ind_adlt\"] = 1\n",
    "crisis_pa_adlt_202004[\"ind_prnt\"] = 0\n",
    "crisis_pa_adlt_202004[\"num_yr\"] = 2020\n",
    "crisis_pa_adlt_202004[\"num_mnth\"] = 4\n",
    "crisis_pa_prnt_202004[\"ind_adlt\"] = 0\n",
    "crisis_pa_prnt_202004[\"ind_prnt\"] = 1\n",
    "crisis_pa_prnt_202004[\"num_yr\"] = 2020\n",
    "crisis_pa_prnt_202004[\"num_mnth\"] = 4"
   ]
  },
  {
   "cell_type": "code",
   "execution_count": 9,
   "metadata": {},
   "outputs": [],
   "source": [
    "crisis_pa_adlt_202005 = pandas.read_csv(\"../../Data/ProlificAcademic/May 2020/Data/CRISIS_Adult_May_2020.csv\")\n",
    "crisis_pa_prnt_202005 = pandas.read_csv(\"../../Data/ProlificAcademic/May 2020/Data/CRISIS_Parent_May_2020.csv\")\n",
    "crisis_pa_adlt_202005[\"ind_adlt\"] = 1\n",
    "crisis_pa_adlt_202005[\"ind_prnt\"] = 0\n",
    "crisis_pa_adlt_202005[\"num_yr\"] = 2020\n",
    "crisis_pa_adlt_202005[\"num_mnth\"] = 5\n",
    "crisis_pa_prnt_202005[\"ind_adlt\"] = 0\n",
    "crisis_pa_prnt_202005[\"ind_prnt\"] = 1\n",
    "crisis_pa_prnt_202005[\"num_yr\"] = 2020\n",
    "crisis_pa_prnt_202005[\"num_mnth\"] = 5"
   ]
  },
  {
   "cell_type": "code",
   "execution_count": 10,
   "metadata": {},
   "outputs": [],
   "source": [
    "crisis_pa_adlt_202011 = pandas.read_csv(\"../../Data/ProlificAcademic/November 2020/Data/CRISIS_Adult_November_2020.csv\", low_memory=False)\n",
    "crisis_pa_prnt_202011 = pandas.read_csv(\"../../Data/ProlificAcademic/November 2020/Data/CRISIS_Parent_November_2020.csv\", low_memory=False)\n",
    "crisis_pa_adlt_202011[\"ind_adlt\"] = 1\n",
    "crisis_pa_adlt_202011[\"ind_prnt\"] = 0\n",
    "crisis_pa_adlt_202011[\"num_yr\"] = 2020\n",
    "crisis_pa_adlt_202011[\"num_mnth\"] = 11\n",
    "crisis_pa_prnt_202011[\"ind_adlt\"] = 0\n",
    "crisis_pa_prnt_202011[\"ind_prnt\"] = 1\n",
    "crisis_pa_prnt_202011[\"num_yr\"] = 2020\n",
    "crisis_pa_prnt_202011[\"num_mnth\"] = 11"
   ]
  },
  {
   "cell_type": "code",
   "execution_count": 11,
   "metadata": {},
   "outputs": [],
   "source": [
    "crisis_pa_adlt_202104 = pandas.read_csv(\"../../Data/ProlificAcademic/April 2021/Data/CRISIS_Adult_April_2021.csv\", low_memory=False)\n",
    "crisis_pa_prnt_202104 = pandas.read_csv(\"../../Data/ProlificAcademic/April 2021/Data/CRISIS_Parent_April_2021.csv\", low_memory=False)\n",
    "crisis_pa_adlt_202104[\"ind_adlt\"] = 1\n",
    "crisis_pa_adlt_202104[\"ind_prnt\"] = 0\n",
    "crisis_pa_adlt_202104[\"num_yr\"] = 2021\n",
    "crisis_pa_adlt_202104[\"num_mnth\"] = 4\n",
    "crisis_pa_prnt_202104[\"ind_adlt\"] = 0\n",
    "crisis_pa_prnt_202104[\"ind_prnt\"] = 1\n",
    "crisis_pa_prnt_202104[\"num_yr\"] = 2021\n",
    "crisis_pa_prnt_202104[\"num_mnth\"] = 4"
   ]
  },
  {
   "cell_type": "code",
   "execution_count": 12,
   "metadata": {},
   "outputs": [],
   "source": [
    "crisis_pa_adlt = pandas.concat([crisis_pa_adlt_202004, crisis_pa_adlt_202005, crisis_pa_adlt_202011, crisis_pa_adlt_202104])"
   ]
  },
  {
   "cell_type": "code",
   "execution_count": 13,
   "metadata": {},
   "outputs": [],
   "source": [
    "crisis_pa_prnt = pandas.concat([crisis_pa_prnt_202004, crisis_pa_prnt_202005, crisis_pa_prnt_202011, crisis_pa_prnt_202104])"
   ]
  },
  {
   "cell_type": "code",
   "execution_count": 14,
   "metadata": {},
   "outputs": [],
   "source": [
    "# Data frame for Focus Group conversations\n",
    "gaming_fg = pandas.read_csv(\"../data_preparation/gaming_group.csv\")\n",
    "social_fg = pandas.read_csv(\"../data_preparation/social_group.csv\")\n",
    "media_fg = pandas.read_csv(\"../data_preparation/media_group.csv\")\n",
    "lp_fg = pandas.read_csv(\"../data_preparation/lowpiu.csv\")"
   ]
  },
  {
   "cell_type": "code",
   "execution_count": 15,
   "metadata": {},
   "outputs": [],
   "source": [
    "nlp = spacy.load(\"en_core_web_lg\")"
   ]
  },
  {
   "cell_type": "code",
   "execution_count": 16,
   "metadata": {},
   "outputs": [],
   "source": [
    "all_text = list(crisis_logger.transcriptions)"
   ]
  },
  {
   "cell_type": "code",
   "execution_count": 17,
   "metadata": {},
   "outputs": [],
   "source": [
    "all_text.extend(list(social_fg.parent_answer))\n",
    "all_text.extend(list(gaming_fg.parent_answer))\n",
    "all_text.extend(list(media_fg.parent_answer))\n",
    "all_text.extend(list(lp_fg.parent_answer))"
   ]
  },
  {
   "cell_type": "code",
   "execution_count": 18,
   "metadata": {},
   "outputs": [],
   "source": [
    "all_text.extend(crisis_pa_adlt[\"specifypositive\"][~pandas.isnull(crisis_pa_adlt[\"specifypositive\"])])"
   ]
  },
  {
   "cell_type": "code",
   "execution_count": 19,
   "metadata": {},
   "outputs": [],
   "source": [
    "all_text.extend(crisis_pa_prnt[\"specifypositive\"][~pandas.isnull(crisis_pa_prnt[\"specifypositive\"])])"
   ]
  },
  {
   "cell_type": "code",
   "execution_count": 20,
   "metadata": {},
   "outputs": [],
   "source": [
    "all_text_cfixed = [contractions.fix(text) for text in all_text]"
   ]
  },
  {
   "cell_type": "code",
   "execution_count": 21,
   "metadata": {},
   "outputs": [
    {
     "data": {
      "text/html": [
       "<div>\n",
       "<style scoped>\n",
       "    .dataframe tbody tr th:only-of-type {\n",
       "        vertical-align: middle;\n",
       "    }\n",
       "\n",
       "    .dataframe tbody tr th {\n",
       "        vertical-align: top;\n",
       "    }\n",
       "\n",
       "    .dataframe thead th {\n",
       "        text-align: right;\n",
       "    }\n",
       "</style>\n",
       "<table border=\"1\" class=\"dataframe\">\n",
       "  <thead>\n",
       "    <tr style=\"text-align: right;\">\n",
       "      <th></th>\n",
       "      <th>country</th>\n",
       "      <th>age</th>\n",
       "      <th>sex</th>\n",
       "      <th>raceethnicity___1</th>\n",
       "      <th>raceethnicity___2</th>\n",
       "      <th>raceethnicity___3</th>\n",
       "      <th>raceethnicity___4</th>\n",
       "      <th>raceethnicity___5</th>\n",
       "      <th>raceethnicity___6</th>\n",
       "      <th>raceethnicity___7</th>\n",
       "      <th>...</th>\n",
       "      <th>iat_12</th>\n",
       "      <th>iat_13</th>\n",
       "      <th>iat_14</th>\n",
       "      <th>iat_15</th>\n",
       "      <th>iat_16</th>\n",
       "      <th>iat_17</th>\n",
       "      <th>iat_18</th>\n",
       "      <th>iat_19</th>\n",
       "      <th>iat_20</th>\n",
       "      <th>internet_addiction_test_iat_complete</th>\n",
       "    </tr>\n",
       "  </thead>\n",
       "  <tbody>\n",
       "    <tr>\n",
       "      <th>count</th>\n",
       "      <td>10351.000000</td>\n",
       "      <td>10340.000000</td>\n",
       "      <td>2839.000000</td>\n",
       "      <td>5091.000000</td>\n",
       "      <td>5091.000000</td>\n",
       "      <td>5091.000000</td>\n",
       "      <td>5091.000000</td>\n",
       "      <td>5091.000000</td>\n",
       "      <td>5091.000000</td>\n",
       "      <td>5091.000000</td>\n",
       "      <td>...</td>\n",
       "      <td>2038.000000</td>\n",
       "      <td>2038.000000</td>\n",
       "      <td>2037.000000</td>\n",
       "      <td>2040.000000</td>\n",
       "      <td>2042.000000</td>\n",
       "      <td>2039.000000</td>\n",
       "      <td>2040.000000</td>\n",
       "      <td>2040.000000</td>\n",
       "      <td>2037.000000</td>\n",
       "      <td>2125.000000</td>\n",
       "    </tr>\n",
       "    <tr>\n",
       "      <th>mean</th>\n",
       "      <td>186.342189</td>\n",
       "      <td>38.956383</td>\n",
       "      <td>1.579429</td>\n",
       "      <td>0.677274</td>\n",
       "      <td>0.022392</td>\n",
       "      <td>0.020821</td>\n",
       "      <td>0.005303</td>\n",
       "      <td>0.017285</td>\n",
       "      <td>0.047338</td>\n",
       "      <td>0.103712</td>\n",
       "      <td>...</td>\n",
       "      <td>1.371443</td>\n",
       "      <td>0.792934</td>\n",
       "      <td>1.208640</td>\n",
       "      <td>0.726471</td>\n",
       "      <td>1.526934</td>\n",
       "      <td>1.299657</td>\n",
       "      <td>0.677941</td>\n",
       "      <td>0.912745</td>\n",
       "      <td>0.696613</td>\n",
       "      <td>1.923765</td>\n",
       "    </tr>\n",
       "    <tr>\n",
       "      <th>std</th>\n",
       "      <td>3.335535</td>\n",
       "      <td>14.746920</td>\n",
       "      <td>0.501526</td>\n",
       "      <td>0.467565</td>\n",
       "      <td>0.147971</td>\n",
       "      <td>0.142799</td>\n",
       "      <td>0.072639</td>\n",
       "      <td>0.130346</td>\n",
       "      <td>0.212383</td>\n",
       "      <td>0.304917</td>\n",
       "      <td>...</td>\n",
       "      <td>1.238758</td>\n",
       "      <td>0.858301</td>\n",
       "      <td>1.179043</td>\n",
       "      <td>0.904832</td>\n",
       "      <td>1.303337</td>\n",
       "      <td>1.160756</td>\n",
       "      <td>0.893387</td>\n",
       "      <td>1.082762</td>\n",
       "      <td>0.886071</td>\n",
       "      <td>0.383051</td>\n",
       "    </tr>\n",
       "    <tr>\n",
       "      <th>min</th>\n",
       "      <td>17.000000</td>\n",
       "      <td>10.000000</td>\n",
       "      <td>1.000000</td>\n",
       "      <td>0.000000</td>\n",
       "      <td>0.000000</td>\n",
       "      <td>0.000000</td>\n",
       "      <td>0.000000</td>\n",
       "      <td>0.000000</td>\n",
       "      <td>0.000000</td>\n",
       "      <td>0.000000</td>\n",
       "      <td>...</td>\n",
       "      <td>0.000000</td>\n",
       "      <td>0.000000</td>\n",
       "      <td>0.000000</td>\n",
       "      <td>0.000000</td>\n",
       "      <td>0.000000</td>\n",
       "      <td>0.000000</td>\n",
       "      <td>0.000000</td>\n",
       "      <td>0.000000</td>\n",
       "      <td>0.000000</td>\n",
       "      <td>0.000000</td>\n",
       "    </tr>\n",
       "    <tr>\n",
       "      <th>25%</th>\n",
       "      <td>186.000000</td>\n",
       "      <td>27.000000</td>\n",
       "      <td>1.000000</td>\n",
       "      <td>0.000000</td>\n",
       "      <td>0.000000</td>\n",
       "      <td>0.000000</td>\n",
       "      <td>0.000000</td>\n",
       "      <td>0.000000</td>\n",
       "      <td>0.000000</td>\n",
       "      <td>0.000000</td>\n",
       "      <td>...</td>\n",
       "      <td>1.000000</td>\n",
       "      <td>0.000000</td>\n",
       "      <td>0.000000</td>\n",
       "      <td>0.000000</td>\n",
       "      <td>0.000000</td>\n",
       "      <td>0.000000</td>\n",
       "      <td>0.000000</td>\n",
       "      <td>0.000000</td>\n",
       "      <td>0.000000</td>\n",
       "      <td>2.000000</td>\n",
       "    </tr>\n",
       "    <tr>\n",
       "      <th>50%</th>\n",
       "      <td>186.000000</td>\n",
       "      <td>36.000000</td>\n",
       "      <td>2.000000</td>\n",
       "      <td>1.000000</td>\n",
       "      <td>0.000000</td>\n",
       "      <td>0.000000</td>\n",
       "      <td>0.000000</td>\n",
       "      <td>0.000000</td>\n",
       "      <td>0.000000</td>\n",
       "      <td>0.000000</td>\n",
       "      <td>...</td>\n",
       "      <td>1.000000</td>\n",
       "      <td>1.000000</td>\n",
       "      <td>1.000000</td>\n",
       "      <td>1.000000</td>\n",
       "      <td>1.000000</td>\n",
       "      <td>1.000000</td>\n",
       "      <td>0.000000</td>\n",
       "      <td>1.000000</td>\n",
       "      <td>0.000000</td>\n",
       "      <td>2.000000</td>\n",
       "    </tr>\n",
       "    <tr>\n",
       "      <th>75%</th>\n",
       "      <td>187.000000</td>\n",
       "      <td>51.000000</td>\n",
       "      <td>2.000000</td>\n",
       "      <td>1.000000</td>\n",
       "      <td>0.000000</td>\n",
       "      <td>0.000000</td>\n",
       "      <td>0.000000</td>\n",
       "      <td>0.000000</td>\n",
       "      <td>0.000000</td>\n",
       "      <td>0.000000</td>\n",
       "      <td>...</td>\n",
       "      <td>2.000000</td>\n",
       "      <td>1.000000</td>\n",
       "      <td>2.000000</td>\n",
       "      <td>1.000000</td>\n",
       "      <td>2.000000</td>\n",
       "      <td>2.000000</td>\n",
       "      <td>1.000000</td>\n",
       "      <td>1.000000</td>\n",
       "      <td>1.000000</td>\n",
       "      <td>2.000000</td>\n",
       "    </tr>\n",
       "    <tr>\n",
       "      <th>max</th>\n",
       "      <td>187.000000</td>\n",
       "      <td>83.000000</td>\n",
       "      <td>3.000000</td>\n",
       "      <td>1.000000</td>\n",
       "      <td>1.000000</td>\n",
       "      <td>1.000000</td>\n",
       "      <td>1.000000</td>\n",
       "      <td>1.000000</td>\n",
       "      <td>1.000000</td>\n",
       "      <td>1.000000</td>\n",
       "      <td>...</td>\n",
       "      <td>5.000000</td>\n",
       "      <td>5.000000</td>\n",
       "      <td>5.000000</td>\n",
       "      <td>5.000000</td>\n",
       "      <td>5.000000</td>\n",
       "      <td>5.000000</td>\n",
       "      <td>5.000000</td>\n",
       "      <td>5.000000</td>\n",
       "      <td>5.000000</td>\n",
       "      <td>2.000000</td>\n",
       "    </tr>\n",
       "  </tbody>\n",
       "</table>\n",
       "<p>8 rows × 438 columns</p>\n",
       "</div>"
      ],
      "text/plain": [
       "            country           age          sex  raceethnicity___1  \\\n",
       "count  10351.000000  10340.000000  2839.000000        5091.000000   \n",
       "mean     186.342189     38.956383     1.579429           0.677274   \n",
       "std        3.335535     14.746920     0.501526           0.467565   \n",
       "min       17.000000     10.000000     1.000000           0.000000   \n",
       "25%      186.000000     27.000000     1.000000           0.000000   \n",
       "50%      186.000000     36.000000     2.000000           1.000000   \n",
       "75%      187.000000     51.000000     2.000000           1.000000   \n",
       "max      187.000000     83.000000     3.000000           1.000000   \n",
       "\n",
       "       raceethnicity___2  raceethnicity___3  raceethnicity___4  \\\n",
       "count        5091.000000        5091.000000        5091.000000   \n",
       "mean            0.022392           0.020821           0.005303   \n",
       "std             0.147971           0.142799           0.072639   \n",
       "min             0.000000           0.000000           0.000000   \n",
       "25%             0.000000           0.000000           0.000000   \n",
       "50%             0.000000           0.000000           0.000000   \n",
       "75%             0.000000           0.000000           0.000000   \n",
       "max             1.000000           1.000000           1.000000   \n",
       "\n",
       "       raceethnicity___5  raceethnicity___6  raceethnicity___7  ...  \\\n",
       "count        5091.000000        5091.000000        5091.000000  ...   \n",
       "mean            0.017285           0.047338           0.103712  ...   \n",
       "std             0.130346           0.212383           0.304917  ...   \n",
       "min             0.000000           0.000000           0.000000  ...   \n",
       "25%             0.000000           0.000000           0.000000  ...   \n",
       "50%             0.000000           0.000000           0.000000  ...   \n",
       "75%             0.000000           0.000000           0.000000  ...   \n",
       "max             1.000000           1.000000           1.000000  ...   \n",
       "\n",
       "            iat_12       iat_13       iat_14       iat_15       iat_16  \\\n",
       "count  2038.000000  2038.000000  2037.000000  2040.000000  2042.000000   \n",
       "mean      1.371443     0.792934     1.208640     0.726471     1.526934   \n",
       "std       1.238758     0.858301     1.179043     0.904832     1.303337   \n",
       "min       0.000000     0.000000     0.000000     0.000000     0.000000   \n",
       "25%       1.000000     0.000000     0.000000     0.000000     0.000000   \n",
       "50%       1.000000     1.000000     1.000000     1.000000     1.000000   \n",
       "75%       2.000000     1.000000     2.000000     1.000000     2.000000   \n",
       "max       5.000000     5.000000     5.000000     5.000000     5.000000   \n",
       "\n",
       "            iat_17       iat_18       iat_19       iat_20  \\\n",
       "count  2039.000000  2040.000000  2040.000000  2037.000000   \n",
       "mean      1.299657     0.677941     0.912745     0.696613   \n",
       "std       1.160756     0.893387     1.082762     0.886071   \n",
       "min       0.000000     0.000000     0.000000     0.000000   \n",
       "25%       0.000000     0.000000     0.000000     0.000000   \n",
       "50%       1.000000     0.000000     1.000000     0.000000   \n",
       "75%       2.000000     1.000000     1.000000     1.000000   \n",
       "max       5.000000     5.000000     5.000000     5.000000   \n",
       "\n",
       "       internet_addiction_test_iat_complete  \n",
       "count                           2125.000000  \n",
       "mean                               1.923765  \n",
       "std                                0.383051  \n",
       "min                                0.000000  \n",
       "25%                                2.000000  \n",
       "50%                                2.000000  \n",
       "75%                                2.000000  \n",
       "max                                2.000000  \n",
       "\n",
       "[8 rows x 438 columns]"
      ]
     },
     "execution_count": 21,
     "metadata": {},
     "output_type": "execute_result"
    }
   ],
   "source": [
    "crisis_pa_adlt.describe()"
   ]
  },
  {
   "cell_type": "code",
   "execution_count": 22,
   "metadata": {},
   "outputs": [],
   "source": [
    "# Initialize a dictionary to add data\n",
    "missing_values_dict = {}\n",
    "missing_values_dict[\"nme_col\"] = []\n",
    "missing_values_dict[\"cnt_missing\"] = []\n",
    "missing_values_dict[\"cnt_avl\"] = []\n",
    "# Print the percentage of non available values across each column.\n",
    "for c in crisis_pa_adlt.columns:\n",
    "    missing_values_dict[\"nme_col\"].append(c)\n",
    "    missing_values_dict[\"cnt_missing\"].append(len(crisis_pa_adlt[pandas.isna(crisis_pa_adlt[c])]))\n",
    "    missing_values_dict[\"cnt_avl\"].append(len(crisis_pa_adlt[~pandas.isna(crisis_pa_adlt[c])]))\n",
    "# Missing values dataframe.\n",
    "crisis_pa_adlt_msng = pandas.DataFrame(missing_values_dict)"
   ]
  },
  {
   "cell_type": "code",
   "execution_count": 23,
   "metadata": {},
   "outputs": [],
   "source": [
    "# Rationalize tall / height\n",
    "crisis_pa_adlt[crisis_pa_adlt[\"measurementheight\"]==1][[\"tall\", \"measurementheight\"]]\n",
    "# If height is in inches, convert it to cm\n",
    "crisis_pa_adlt[\"tall_cm\"] = crisis_pa_adlt[\"tall\"]\n",
    "crisis_pa_adlt[\"tall_cm\"] = crisis_pa_adlt[[\"tall\", \"measurementheight\"]].apply(lambda r: r[0] if r[1]==2 else r[0] * 2.54, axis=1)\n",
    "# 10th and 95th percentile height\n",
    "tall_cm_095 = crisis_pa_adlt[\"tall_cm\"].quantile(0.95)\n",
    "tall_cm_010 = crisis_pa_adlt[\"tall_cm\"].quantile(0.10)\n",
    "# Filter outliers\n",
    "crisis_pa_adlt[\"tall_cm\"] = crisis_pa_adlt[\"tall_cm\"].apply(lambda r: r if (r>=tall_cm_010 and r<=tall_cm_095) else numpy.nan)"
   ]
  },
  {
   "cell_type": "code",
   "execution_count": 24,
   "metadata": {},
   "outputs": [],
   "source": [
    "# Rationalize weight\n",
    "crisis_pa_adlt[crisis_pa_adlt[\"measurementweight\"]==1][[\"weight\", \"measurementweight\"]]\n",
    "# If weight is in lbs, convert it to kg\n",
    "crisis_pa_adlt[\"weight_kg\"] = crisis_pa_adlt[\"weight\"]\n",
    "crisis_pa_adlt[\"weight_kg\"] = crisis_pa_adlt[[\"weight\", \"measurementweight\"]].apply(lambda r: r[0] if r[1]==2 else r[0] * 0.453, axis=1)\n",
    "# Percentiles\n",
    "weight_kg_005 = crisis_pa_adlt[\"weight_kg\"].quantile(0.05)\n",
    "weight_kg_095 = crisis_pa_adlt[\"weight_kg\"].quantile(0.95)\n",
    "# Filter outliers\n",
    "crisis_pa_adlt[\"weight_kg\"] = crisis_pa_adlt[\"weight_kg\"].apply(lambda r: r if (r>=weight_kg_005 and r<=weight_kg_095) else numpy.nan)"
   ]
  },
  {
   "cell_type": "code",
   "execution_count": 155,
   "metadata": {},
   "outputs": [
    {
     "data": {
      "text/html": [
       "<div>\n",
       "<style scoped>\n",
       "    .dataframe tbody tr th:only-of-type {\n",
       "        vertical-align: middle;\n",
       "    }\n",
       "\n",
       "    .dataframe tbody tr th {\n",
       "        vertical-align: top;\n",
       "    }\n",
       "\n",
       "    .dataframe thead th {\n",
       "        text-align: right;\n",
       "    }\n",
       "</style>\n",
       "<table border=\"1\" class=\"dataframe\">\n",
       "  <thead>\n",
       "    <tr style=\"text-align: right;\">\n",
       "      <th></th>\n",
       "      <th>physicalhealth_1.0</th>\n",
       "      <th>physicalhealth_2.0</th>\n",
       "      <th>physicalhealth_3.0</th>\n",
       "      <th>physicalhealth_4.0</th>\n",
       "      <th>physicalhealth_5.0</th>\n",
       "    </tr>\n",
       "  </thead>\n",
       "  <tbody>\n",
       "    <tr>\n",
       "      <th>0</th>\n",
       "      <td>0</td>\n",
       "      <td>1</td>\n",
       "      <td>0</td>\n",
       "      <td>0</td>\n",
       "      <td>0</td>\n",
       "    </tr>\n",
       "    <tr>\n",
       "      <th>1</th>\n",
       "      <td>0</td>\n",
       "      <td>1</td>\n",
       "      <td>0</td>\n",
       "      <td>0</td>\n",
       "      <td>0</td>\n",
       "    </tr>\n",
       "    <tr>\n",
       "      <th>2</th>\n",
       "      <td>0</td>\n",
       "      <td>1</td>\n",
       "      <td>0</td>\n",
       "      <td>0</td>\n",
       "      <td>0</td>\n",
       "    </tr>\n",
       "    <tr>\n",
       "      <th>3</th>\n",
       "      <td>0</td>\n",
       "      <td>1</td>\n",
       "      <td>0</td>\n",
       "      <td>0</td>\n",
       "      <td>0</td>\n",
       "    </tr>\n",
       "    <tr>\n",
       "      <th>4</th>\n",
       "      <td>0</td>\n",
       "      <td>0</td>\n",
       "      <td>1</td>\n",
       "      <td>0</td>\n",
       "      <td>0</td>\n",
       "    </tr>\n",
       "    <tr>\n",
       "      <th>...</th>\n",
       "      <td>...</td>\n",
       "      <td>...</td>\n",
       "      <td>...</td>\n",
       "      <td>...</td>\n",
       "      <td>...</td>\n",
       "    </tr>\n",
       "    <tr>\n",
       "      <th>2120</th>\n",
       "      <td>0</td>\n",
       "      <td>0</td>\n",
       "      <td>0</td>\n",
       "      <td>0</td>\n",
       "      <td>0</td>\n",
       "    </tr>\n",
       "    <tr>\n",
       "      <th>2121</th>\n",
       "      <td>0</td>\n",
       "      <td>0</td>\n",
       "      <td>0</td>\n",
       "      <td>0</td>\n",
       "      <td>0</td>\n",
       "    </tr>\n",
       "    <tr>\n",
       "      <th>2122</th>\n",
       "      <td>0</td>\n",
       "      <td>0</td>\n",
       "      <td>0</td>\n",
       "      <td>0</td>\n",
       "      <td>0</td>\n",
       "    </tr>\n",
       "    <tr>\n",
       "      <th>2123</th>\n",
       "      <td>0</td>\n",
       "      <td>0</td>\n",
       "      <td>0</td>\n",
       "      <td>0</td>\n",
       "      <td>0</td>\n",
       "    </tr>\n",
       "    <tr>\n",
       "      <th>2124</th>\n",
       "      <td>0</td>\n",
       "      <td>0</td>\n",
       "      <td>0</td>\n",
       "      <td>0</td>\n",
       "      <td>0</td>\n",
       "    </tr>\n",
       "  </tbody>\n",
       "</table>\n",
       "<p>10364 rows × 5 columns</p>\n",
       "</div>"
      ],
      "text/plain": [
       "      physicalhealth_1.0  physicalhealth_2.0  physicalhealth_3.0  \\\n",
       "0                      0                   1                   0   \n",
       "1                      0                   1                   0   \n",
       "2                      0                   1                   0   \n",
       "3                      0                   1                   0   \n",
       "4                      0                   0                   1   \n",
       "...                  ...                 ...                 ...   \n",
       "2120                   0                   0                   0   \n",
       "2121                   0                   0                   0   \n",
       "2122                   0                   0                   0   \n",
       "2123                   0                   0                   0   \n",
       "2124                   0                   0                   0   \n",
       "\n",
       "      physicalhealth_4.0  physicalhealth_5.0  \n",
       "0                      0                   0  \n",
       "1                      0                   0  \n",
       "2                      0                   0  \n",
       "3                      0                   0  \n",
       "4                      0                   0  \n",
       "...                  ...                 ...  \n",
       "2120                   0                   0  \n",
       "2121                   0                   0  \n",
       "2122                   0                   0  \n",
       "2123                   0                   0  \n",
       "2124                   0                   0  \n",
       "\n",
       "[10364 rows x 5 columns]"
      ]
     },
     "execution_count": 155,
     "metadata": {},
     "output_type": "execute_result"
    }
   ],
   "source": [
    "# Physical health encoding\n",
    "pandas.get_dummies(crisis_pa_adlt[\"physicalhealth\"], prefix=\"physicalhealth\")"
   ]
  },
  {
   "cell_type": "code",
   "execution_count": 172,
   "metadata": {},
   "outputs": [
    {
     "data": {
      "text/plain": [
       "0       3.0\n",
       "1       3.0\n",
       "2       2.0\n",
       "3       2.0\n",
       "4       2.0\n",
       "       ... \n",
       "2120    NaN\n",
       "2121    NaN\n",
       "2122    NaN\n",
       "2123    NaN\n",
       "2124    NaN\n",
       "Name: hoursofsleepweekdays_2, Length: 10364, dtype: float64"
      ]
     },
     "execution_count": 172,
     "metadata": {},
     "output_type": "execute_result"
    }
   ],
   "source": [
    "crisis_pa_adlt[\"hoursofsleepweekdays_2\"]"
   ]
  },
  {
   "cell_type": "code",
   "execution_count": 26,
   "metadata": {},
   "outputs": [
    {
     "data": {
      "text/plain": [
       "3507"
      ]
     },
     "execution_count": 26,
     "metadata": {},
     "output_type": "execute_result"
    }
   ],
   "source": [
    "len(crisis_pa_adlt[crisis_pa_adlt[\"hoursofsleepweekdays\"]==crisis_pa_adlt[\"hoursofsleepweekdays_2\"]])"
   ]
  },
  {
   "cell_type": "code",
   "execution_count": 68,
   "metadata": {},
   "outputs": [
    {
     "data": {
      "text/plain": [
       "6016"
      ]
     },
     "execution_count": 68,
     "metadata": {},
     "output_type": "execute_result"
    }
   ],
   "source": [
    "len(crisis_pa_adlt[pandas.isna(crisis_pa_adlt[\"substance___3\"])])"
   ]
  },
  {
   "cell_type": "code",
   "execution_count": 64,
   "metadata": {},
   "outputs": [
    {
     "data": {
      "text/plain": [
       "count    2550.000000\n",
       "mean        0.050196\n",
       "std         0.218392\n",
       "min         0.000000\n",
       "25%         0.000000\n",
       "50%         0.000000\n",
       "75%         0.000000\n",
       "max         1.000000\n",
       "Name: substancecomplaint, dtype: float64"
      ]
     },
     "execution_count": 64,
     "metadata": {},
     "output_type": "execute_result"
    }
   ],
   "source": [
    "crisis_pa_adlt[\"substancecomplaint\"].describe()"
   ]
  },
  {
   "cell_type": "code",
   "execution_count": 252,
   "metadata": {},
   "outputs": [],
   "source": [
    "# Columns for demographic clustering\n",
    "dmg_hlth_cols = [\n",
    "    \"age\",\n",
    "    \"gender\",\n",
    "    \"tall_cm\",\n",
    "    \"weight_kg\",\n",
    "    \"cigarettesyn\",\n",
    "    \"healthconditions___1\",\n",
    "    \"healthconditions___2\",\n",
    "    \"healthconditions___3\",\n",
    "    \"healthconditions___4\",\n",
    "    \"healthconditions___5\",\n",
    "    \"healthconditions___6\",\n",
    "    \"healthconditions___7\",\n",
    "    \"healthconditions___8\",\n",
    "    \"healthconditions___9\",\n",
    "    \"healthconditions___10\",\n",
    "    \"healthconditions___11\",\n",
    "    \"healthconditions___12\",\n",
    "    \"healthconditions___13\",\n",
    "    \"healthconditions___14\",\n",
    "    \"healthconditions___15\",\n",
    "    \"healthconditions___16\",\n",
    "    \"healthconditions___17\",\n",
    "    \"healthconditions___18\",\n",
    "    \"healthconditions___19\",\n",
    "    \"healthconditions___20\",\n",
    "    \"hoursofsleepweekdays\",\n",
    "    \"hoursofsleepweekends\",\n",
    "    \"troublesleeping\",\n",
    "    \"sleepquality\"\n",
    "]\n"
   ]
  },
  {
   "cell_type": "code",
   "execution_count": 70,
   "metadata": {},
   "outputs": [],
   "source": [
    "dmg_subs_cols = [\n",
    "    \"alcohol\",\n",
    "    \"cigarettes\",\n",
    "    \"vape\",\n",
    "    \"tobacco\",\n",
    "    \"marijuana\",\n",
    "    \"heroin\",\n",
    "    \"cocaine\",\n",
    "    \"rxpain\",\n",
    "    \"rxsleeping\",\n",
    "    \"rxstimulants\",\n",
    "    \"rxother\",\n",
    "    \"substanceproblems\",\n",
    "    \"substancecomplaint\"\n",
    "]"
   ]
  },
  {
   "cell_type": "code",
   "execution_count": 75,
   "metadata": {},
   "outputs": [],
   "source": [
    "dmg_subs_cols_imp_1 = [\n",
    "    \"alcohol\",\n",
    "    \"cigarettes\",\n",
    "    \"vape\",\n",
    "    \"tobacco\",\n",
    "    \"marijuana\",\n",
    "    \"heroin\",\n",
    "    \"cocaine\",\n",
    "    \"rxpain\",\n",
    "    \"rxsleeping\",\n",
    "    \"rxstimulants\",\n",
    "    \"rxother\"\n",
    "] "
   ]
  },
  {
   "cell_type": "code",
   "execution_count": 165,
   "metadata": {},
   "outputs": [],
   "source": [
    "dmg_subs_cols_imp_1_sub = [\n",
    "    \"alcohol\",\n",
    "    \"cigarettes\",\n",
    "    \"vape\",\n",
    "    \"tobacco\",\n",
    "    \"marijuana\",\n",
    "    \"heroin\",\n",
    "    \"cocaine\"\n",
    "]\n",
    "dmg_subs_cols_imp_1_med = [\n",
    "    \"rxpain\",\n",
    "    \"rxsleeping\",\n",
    "    \"rxstimulants\",\n",
    "    \"rxother\"\n",
    "]"
   ]
  },
  {
   "cell_type": "code",
   "execution_count": 74,
   "metadata": {},
   "outputs": [],
   "source": [
    "# Creating a dictionary to map substance use to frequency\n",
    "# 1, Not at all | 2, Rarely | 3, Once a month | 4, Several times a month | 5, Once a week | 6, Several times a week | 7, Once a day | 8, More than once a day\n",
    "subs_freq_dict = {\n",
    "    1: 0,\n",
    "    2: 0.01,\n",
    "    3: 0.03,\n",
    "    4: 0.075,\n",
    "    5: 0.15,\n",
    "    6: 0.33,\n",
    "    7: 1,\n",
    "    8: 3\n",
    "}"
   ]
  },
  {
   "cell_type": "code",
   "execution_count": 82,
   "metadata": {},
   "outputs": [],
   "source": [
    "for col in dmg_subs_cols_imp_1:\n",
    "    # First apply 1 in cases where response isn't provided\n",
    "    crisis_pa_adlt[col + \"_imp\"] = crisis_pa_adlt[col].apply(lambda r: 1.0 if numpy.isnan(r) else r)\n",
    "    crisis_pa_adlt[col + \"_imp\"] = crisis_pa_adlt[col + \"_imp\"].astype(int)\n",
    "    crisis_pa_adlt[col + \"_imp_freq\"] = crisis_pa_adlt[col + \"_imp\"].apply(lambda r: subs_freq_dict[r])"
   ]
  },
  {
   "cell_type": "code",
   "execution_count": 90,
   "metadata": {},
   "outputs": [],
   "source": [
    "# Other columns in substances\n",
    "crisis_pa_adlt[\"substanceproblems_imp\"] = crisis_pa_adlt[\"substanceproblems\"].apply(lambda r: 0 if numpy.isnan(r) else r).astype(int)\n",
    "crisis_pa_adlt[\"substancecomplaint_imp\"] = crisis_pa_adlt[\"substancecomplaint\"].apply(lambda r: 0 if numpy.isnan(r) else r).astype(int) "
   ]
  },
  {
   "cell_type": "code",
   "execution_count": 192,
   "metadata": {},
   "outputs": [],
   "source": [
    "subs_agc = AgglomerativeClustering(n_clusters=2)\n",
    "crisis_pa_adlt[\"subs_imp_med_agc_1\"] = subs_agc.fit_predict(crisis_pa_adlt[[col + \"_imp\" for col in dmg_subs_cols_imp_1_med]])"
   ]
  },
  {
   "cell_type": "code",
   "execution_count": 200,
   "metadata": {},
   "outputs": [],
   "source": [
    "subs_med_km = KMeans(n_clusters=10)\n",
    "crisis_pa_adlt[\"subs_imp_med_km_1\"] = subs_med_km.fit_predict(crisis_pa_adlt[[col + \"_imp_freq\" for col in dmg_subs_cols_imp_1_med]])"
   ]
  },
  {
   "cell_type": "code",
   "execution_count": 212,
   "metadata": {},
   "outputs": [],
   "source": [
    "subs_sub_km = KMeans(n_clusters=2, max_iter=1000)\n",
    "crisis_pa_adlt[\"subs_imp_sub_km_1\"] = subs_sub_km.fit_predict(crisis_pa_adlt[[col + \"_imp\" for col in dmg_subs_cols_imp_1_sub]])"
   ]
  },
  {
   "cell_type": "code",
   "execution_count": 213,
   "metadata": {},
   "outputs": [
    {
     "data": {
      "text/html": [
       "<div>\n",
       "<style scoped>\n",
       "    .dataframe tbody tr th:only-of-type {\n",
       "        vertical-align: middle;\n",
       "    }\n",
       "\n",
       "    .dataframe tbody tr th {\n",
       "        vertical-align: top;\n",
       "    }\n",
       "\n",
       "    .dataframe thead tr th {\n",
       "        text-align: left;\n",
       "    }\n",
       "\n",
       "    .dataframe thead tr:last-of-type th {\n",
       "        text-align: right;\n",
       "    }\n",
       "</style>\n",
       "<table border=\"1\" class=\"dataframe\">\n",
       "  <thead>\n",
       "    <tr>\n",
       "      <th></th>\n",
       "      <th colspan=\"2\" halign=\"left\">mentalhealth</th>\n",
       "      <th colspan=\"2\" halign=\"left\">alcohol</th>\n",
       "      <th colspan=\"2\" halign=\"left\">cigarettes</th>\n",
       "      <th colspan=\"2\" halign=\"left\">vape</th>\n",
       "      <th colspan=\"2\" halign=\"left\">tobacco</th>\n",
       "      <th colspan=\"2\" halign=\"left\">marijuana</th>\n",
       "      <th colspan=\"2\" halign=\"left\">heroin</th>\n",
       "      <th colspan=\"2\" halign=\"left\">cocaine</th>\n",
       "    </tr>\n",
       "    <tr>\n",
       "      <th></th>\n",
       "      <th>mean</th>\n",
       "      <th>count</th>\n",
       "      <th>mean</th>\n",
       "      <th>count</th>\n",
       "      <th>mean</th>\n",
       "      <th>count</th>\n",
       "      <th>mean</th>\n",
       "      <th>count</th>\n",
       "      <th>mean</th>\n",
       "      <th>count</th>\n",
       "      <th>mean</th>\n",
       "      <th>count</th>\n",
       "      <th>mean</th>\n",
       "      <th>count</th>\n",
       "      <th>mean</th>\n",
       "      <th>count</th>\n",
       "    </tr>\n",
       "    <tr>\n",
       "      <th>subs_imp_sub_km_1</th>\n",
       "      <th></th>\n",
       "      <th></th>\n",
       "      <th></th>\n",
       "      <th></th>\n",
       "      <th></th>\n",
       "      <th></th>\n",
       "      <th></th>\n",
       "      <th></th>\n",
       "      <th></th>\n",
       "      <th></th>\n",
       "      <th></th>\n",
       "      <th></th>\n",
       "      <th></th>\n",
       "      <th></th>\n",
       "      <th></th>\n",
       "      <th></th>\n",
       "    </tr>\n",
       "  </thead>\n",
       "  <tbody>\n",
       "    <tr>\n",
       "      <th>0</th>\n",
       "      <td>2.662547</td>\n",
       "      <td>3965</td>\n",
       "      <td>1.436190</td>\n",
       "      <td>2194</td>\n",
       "      <td>1.293088</td>\n",
       "      <td>2228</td>\n",
       "      <td>1.302989</td>\n",
       "      <td>2208</td>\n",
       "      <td>1.034343</td>\n",
       "      <td>2213</td>\n",
       "      <td>1.226067</td>\n",
       "      <td>2225</td>\n",
       "      <td>1.004939</td>\n",
       "      <td>2227</td>\n",
       "      <td>1.024898</td>\n",
       "      <td>2209</td>\n",
       "    </tr>\n",
       "    <tr>\n",
       "      <th>1</th>\n",
       "      <td>2.699821</td>\n",
       "      <td>1116</td>\n",
       "      <td>5.268605</td>\n",
       "      <td>2029</td>\n",
       "      <td>2.307692</td>\n",
       "      <td>2028</td>\n",
       "      <td>1.858346</td>\n",
       "      <td>2019</td>\n",
       "      <td>1.216633</td>\n",
       "      <td>2008</td>\n",
       "      <td>1.739001</td>\n",
       "      <td>2023</td>\n",
       "      <td>1.055720</td>\n",
       "      <td>2028</td>\n",
       "      <td>1.128840</td>\n",
       "      <td>2018</td>\n",
       "    </tr>\n",
       "  </tbody>\n",
       "</table>\n",
       "</div>"
      ],
      "text/plain": [
       "                  mentalhealth         alcohol       cigarettes        \\\n",
       "                          mean count      mean count       mean count   \n",
       "subs_imp_sub_km_1                                                       \n",
       "0                     2.662547  3965  1.436190  2194   1.293088  2228   \n",
       "1                     2.699821  1116  5.268605  2029   2.307692  2028   \n",
       "\n",
       "                       vape         tobacco       marijuana          heroin  \\\n",
       "                       mean count      mean count      mean count      mean   \n",
       "subs_imp_sub_km_1                                                             \n",
       "0                  1.302989  2208  1.034343  2213  1.226067  2225  1.004939   \n",
       "1                  1.858346  2019  1.216633  2008  1.739001  2023  1.055720   \n",
       "\n",
       "                          cocaine        \n",
       "                  count      mean count  \n",
       "subs_imp_sub_km_1                        \n",
       "0                  2227  1.024898  2209  \n",
       "1                  2028  1.128840  2018  "
      ]
     },
     "execution_count": 213,
     "metadata": {},
     "output_type": "execute_result"
    }
   ],
   "source": [
    "crisis_pa_adlt[[\"subs_imp_sub_km_1\"] + [\"mentalhealth\"] + dmg_subs_cols_imp_1_sub].groupby([\"subs_imp_sub_km_1\"]).agg([\"mean\", \"count\"])"
   ]
  },
  {
   "cell_type": "code",
   "execution_count": 166,
   "metadata": {},
   "outputs": [
    {
     "data": {
      "text/html": [
       "<div>\n",
       "<style scoped>\n",
       "    .dataframe tbody tr th:only-of-type {\n",
       "        vertical-align: middle;\n",
       "    }\n",
       "\n",
       "    .dataframe tbody tr th {\n",
       "        vertical-align: top;\n",
       "    }\n",
       "\n",
       "    .dataframe thead th {\n",
       "        text-align: right;\n",
       "    }\n",
       "</style>\n",
       "<table border=\"1\" class=\"dataframe\">\n",
       "  <thead>\n",
       "    <tr style=\"text-align: right;\">\n",
       "      <th></th>\n",
       "      <th>rxpain</th>\n",
       "      <th>rxsleeping</th>\n",
       "      <th>rxstimulants</th>\n",
       "      <th>rxother</th>\n",
       "    </tr>\n",
       "  </thead>\n",
       "  <tbody>\n",
       "    <tr>\n",
       "      <th>rxpain</th>\n",
       "      <td>1.000000</td>\n",
       "      <td>0.213177</td>\n",
       "      <td>0.194715</td>\n",
       "      <td>0.249505</td>\n",
       "    </tr>\n",
       "    <tr>\n",
       "      <th>rxsleeping</th>\n",
       "      <td>0.213177</td>\n",
       "      <td>1.000000</td>\n",
       "      <td>0.304109</td>\n",
       "      <td>0.246675</td>\n",
       "    </tr>\n",
       "    <tr>\n",
       "      <th>rxstimulants</th>\n",
       "      <td>0.194715</td>\n",
       "      <td>0.304109</td>\n",
       "      <td>1.000000</td>\n",
       "      <td>0.276484</td>\n",
       "    </tr>\n",
       "    <tr>\n",
       "      <th>rxother</th>\n",
       "      <td>0.249505</td>\n",
       "      <td>0.246675</td>\n",
       "      <td>0.276484</td>\n",
       "      <td>1.000000</td>\n",
       "    </tr>\n",
       "  </tbody>\n",
       "</table>\n",
       "</div>"
      ],
      "text/plain": [
       "                rxpain  rxsleeping  rxstimulants   rxother\n",
       "rxpain        1.000000    0.213177      0.194715  0.249505\n",
       "rxsleeping    0.213177    1.000000      0.304109  0.246675\n",
       "rxstimulants  0.194715    0.304109      1.000000  0.276484\n",
       "rxother       0.249505    0.246675      0.276484  1.000000"
      ]
     },
     "execution_count": 166,
     "metadata": {},
     "output_type": "execute_result"
    }
   ],
   "source": [
    "crisis_pa_adlt[dmg_subs_cols_imp_1_med].corr(method=\"spearman\")"
   ]
  },
  {
   "cell_type": "code",
   "execution_count": 233,
   "metadata": {},
   "outputs": [
    {
     "name": "stderr",
     "output_type": "stream",
     "text": [
      "C:\\Users\\sanji\\AppData\\Local\\Temp/ipykernel_20596/2453401777.py:3: SettingWithCopyWarning: \n",
      "A value is trying to be set on a copy of a slice from a DataFrame.\n",
      "Try using .loc[row_indexer,col_indexer] = value instead\n",
      "\n",
      "See the caveats in the documentation: https://pandas.pydata.org/pandas-docs/stable/user_guide/indexing.html#returning-a-view-versus-a-copy\n",
      "  crisis_pa_adlt_mh[\"mentalhealth\"] = crisis_pa_adlt_mh[\"mentalhealth\"].astype(int)\n"
     ]
    }
   ],
   "source": [
    "# Filter data for cases where mental health is available.\n",
    "crisis_pa_adlt_mh = crisis_pa_adlt[~pandas.isna(crisis_pa_adlt[\"mentalhealth\"])]\n",
    "crisis_pa_adlt_mh[\"mentalhealth\"] = crisis_pa_adlt_mh[\"mentalhealth\"].astype(int)"
   ]
  },
  {
   "cell_type": "code",
   "execution_count": 248,
   "metadata": {},
   "outputs": [
    {
     "name": "stdout",
     "output_type": "stream",
     "text": [
      "INFO: Training model for Mental Health - 1\n",
      "INFO: Training Metrics\n",
      "[[3464    1]\n",
      " [ 576   23]]\n",
      "INFO: Testing metrics\n",
      "[[851   4]\n",
      " [162   0]]\n",
      "0.4976608187134503\n",
      "\n",
      "INFO: Training model for Mental Health - 2\n",
      "INFO: Training Metrics\n",
      "[[2823    7]\n",
      " [1140   94]]\n",
      "INFO: Testing metrics\n",
      "[[697  17]\n",
      " [291  12]]\n",
      "0.507897218293258\n",
      "\n",
      "INFO: Training model for Mental Health - 3\n",
      "INFO: Training Metrics\n",
      "[[2703   26]\n",
      " [1175  160]]\n",
      "INFO: Testing metrics\n",
      "[[673  18]\n",
      " [315  11]]\n",
      "0.5038465636181226\n",
      "\n",
      "INFO: Training model for Mental Health - 4\n",
      "INFO: Training Metrics\n",
      "[[3365    7]\n",
      " [ 581  111]]\n",
      "INFO: Testing metrics\n",
      "[[828  23]\n",
      " [162   4]]\n",
      "0.4985346792575709\n",
      "\n",
      "INFO: Training model for Mental Health - 5\n",
      "INFO: Training Metrics\n",
      "[[3860    0]\n",
      " [ 182   22]]\n",
      "INFO: Testing metrics\n",
      "[[954   3]\n",
      " [ 60   0]]\n",
      "0.49843260188087773\n",
      "\n"
     ]
    }
   ],
   "source": [
    "for v in crisis_pa_adlt_mh[\"mentalhealth\"].unique():\n",
    "    # Filter data for each mental health value.\n",
    "    crisis_pa_adlt_mh_1 = crisis_pa_adlt_mh.copy(True)\n",
    "    crisis_pa_adlt_mh_1[\"mh_tgt\"] = crisis_pa_adlt_mh_1[\"mentalhealth\"].apply(lambda r: 1 if r==v else 0)\n",
    "    # Print information\n",
    "    print(\"INFO: Training model for Mental Health - \" + str(v))\n",
    "    X_train, X_test, y_train, y_test = train_test_split(crisis_pa_adlt_mh_1[[col + \"_imp\" for col in dmg_subs_cols_imp_1]], crisis_pa_adlt_mh_1[\"mh_tgt\"], test_size=0.2, random_state=100)\n",
    "    # Train a Gradient boosted classifier\n",
    "    gb_mh = GradientBoostingClassifier(learning_rate=0.05, n_estimators=500, max_depth=5)\n",
    "    gb_mh = gb_mh.fit(X_train, y_train)\n",
    "    # Predict on training and test\n",
    "    y_pred_train = gb_mh.predict(X_train)\n",
    "    y_pred_test = gb_mh.predict(X_test)\n",
    "    # Compute confusion matrix for train and test\n",
    "    cf_train = confusion_matrix(y_train, y_pred_train)\n",
    "    cf_test = confusion_matrix(y_test, y_pred_test)\n",
    "    # Test AUC\n",
    "    auc_test = roc_auc_score(y_test, y_pred_test)\n",
    "    # Print confusion matrix\n",
    "    print(\"INFO: Training Metrics\")\n",
    "    print(cf_train)\n",
    "    print(\"INFO: Testing metrics\")\n",
    "    print(cf_test)\n",
    "    print(auc_test)\n",
    "    print(\"\")\n"
   ]
  },
  {
   "cell_type": "code",
   "execution_count": 251,
   "metadata": {},
   "outputs": [
    {
     "data": {
      "text/plain": [
       "(array(['alcohol_imp', 'cigarettes_imp', 'vape_imp', 'tobacco_imp',\n",
       "        'marijuana_imp', 'heroin_imp', 'cocaine_imp', 'rxpain_imp',\n",
       "        'rxsleeping_imp', 'rxstimulants_imp', 'rxother_imp'], dtype=object),\n",
       " array([0.28464337, 0.16478001, 0.09523907, 0.07600106, 0.13323093,\n",
       "        0.00416749, 0.0252226 , 0.11279175, 0.05514027, 0.02134166,\n",
       "        0.0274418 ]))"
      ]
     },
     "execution_count": 251,
     "metadata": {},
     "output_type": "execute_result"
    }
   ],
   "source": [
    "gb_mh.feature_names_in_, gb_mh.feature_importances_"
   ]
  },
  {
   "cell_type": "code",
   "execution_count": 275,
   "metadata": {},
   "outputs": [],
   "source": [
    "# Imputation for age, tall and weight\n",
    "crisis_pa_adlt[\"age_imp\"] = crisis_pa_adlt[\"age\"]\n",
    "crisis_pa_adlt[\"tall_cm_imp\"] = crisis_pa_adlt[\"tall_cm\"]\n",
    "crisis_pa_adlt[\"weight_kg_imp\"] = crisis_pa_adlt[\"weight_kg\"]\n",
    "# Medians\n",
    "age_median = crisis_pa_adlt[\"age\"].median()\n",
    "tall_cm_median = crisis_pa_adlt[\"tall_cm\"].median()\n",
    "weight_kg_median = crisis_pa_adlt[\"weight_kg\"].median()\n",
    "# Replace with median\n",
    "crisis_pa_adlt[\"age_imp\"] = crisis_pa_adlt[\"age\"].apply(lambda r: age_median if numpy.isnan(r) else r)\n",
    "crisis_pa_adlt[\"tall_cm_imp\"] = crisis_pa_adlt[\"tall_cm\"].apply(lambda r: tall_cm_median if numpy.isnan(r) else r)\n",
    "crisis_pa_adlt[\"weight_kg_imp\"] = crisis_pa_adlt[\"weight_kg\"].apply(lambda r: weight_kg_median if numpy.isnan(r) else r)"
   ]
  },
  {
   "cell_type": "code",
   "execution_count": 276,
   "metadata": {},
   "outputs": [],
   "source": [
    "# Gender dictionary for imputation\n",
    "# 1, Man | 2, Woman | 3, Non-binary | 4, Transgender man | 5, Transgender woman | 6, Other\n",
    "crisis_pa_adlt[\"gender_m\"] = crisis_pa_adlt[\"gender\"].apply(lambda r: 1 if r==1 else 0)\n",
    "crisis_pa_adlt[\"gender_f\"] = crisis_pa_adlt[\"gender\"].apply(lambda r: 1 if r==2 else 0)\n",
    "crisis_pa_adlt[\"gender_o\"] = crisis_pa_adlt[\"gender\"].apply(lambda r: 1 if r > 2 else 0)\n",
    "# Unknown\n",
    "crisis_pa_adlt[\"gender_u\"] = crisis_pa_adlt[\"gender\"].apply(lambda r: 1 if numpy.isnan(r) else 0)"
   ]
  },
  {
   "cell_type": "code",
   "execution_count": 279,
   "metadata": {},
   "outputs": [],
   "source": [
    "crisis_pa_adlt[\"cigarettesyn_imp\"] = crisis_pa_adlt[\"cigarettesyn\"].apply(lambda r: 0 if numpy.isnan(r) else r)"
   ]
  },
  {
   "cell_type": "code",
   "execution_count": 283,
   "metadata": {},
   "outputs": [],
   "source": [
    "crisis_pa_adlt[\"hoursofsleepweekdays_imp\"] = crisis_pa_adlt[\"hoursofsleepweekdays\"]\n",
    "crisis_pa_adlt[\"hoursofsleepweekends_imp\"] = crisis_pa_adlt[\"hoursofsleepweekends\"]\n",
    "hoswd_median = crisis_pa_adlt[\"hoursofsleepweekdays\"].median()\n",
    "hoswe_median = crisis_pa_adlt[\"hoursofsleepweekends\"].median()\n",
    "crisis_pa_adlt[\"hoursofsleepweekdays_imp\"] = crisis_pa_adlt[\"hoursofsleepweekdays\"].apply(lambda r: hoswd_median if numpy.isnan(r) else r)\n",
    "crisis_pa_adlt[\"hoursofsleepweekends_imp\"] = crisis_pa_adlt[\"hoursofsleepweekends\"].apply(lambda r: hoswe_median if numpy.isnan(r) else r)"
   ]
  },
  {
   "cell_type": "code",
   "execution_count": 284,
   "metadata": {},
   "outputs": [],
   "source": [
    "# Trouble sleeping - Imputation\n",
    "crisis_pa_adlt[\"troublesleeping_imp\"] = crisis_pa_adlt[\"troublesleeping\"].apply(lambda r: 0 if numpy.isnan(r) or r <= 2 else 1)"
   ]
  },
  {
   "cell_type": "code",
   "execution_count": 288,
   "metadata": {},
   "outputs": [],
   "source": [
    "crisis_pa_adlt[\"sleepquality_imp\"] = crisis_pa_adlt[\"sleepquality\"].apply(lambda r: 1 if numpy.isnan(r) or r <= 2 else 0)"
   ]
  },
  {
   "cell_type": "code",
   "execution_count": 296,
   "metadata": {},
   "outputs": [],
   "source": [
    "# Imputing the health conditions columns\n",
    "for k in range(1, 21):\n",
    "    crisis_pa_adlt[\"healthconditions___\" + str(k) + \"_imp\"] = crisis_pa_adlt[\"healthconditions___\" + str(k)].apply(lambda r: 0 if numpy.isnan(r) else r)"
   ]
  },
  {
   "cell_type": "code",
   "execution_count": 302,
   "metadata": {},
   "outputs": [],
   "source": [
    "dmg_hlth_cols_imp = [\n",
    "    \"age_imp\",\n",
    "    \"gender_m\",\n",
    "    \"gender_f\",\n",
    "    \"gender_o\",\n",
    "    \"gender_u\",\n",
    "    \"tall_cm_imp\",\n",
    "    \"weight_kg_imp\",\n",
    "    \"cigarettesyn_imp\",\n",
    "    \"healthconditions___1_imp\",\n",
    "    \"healthconditions___2_imp\",\n",
    "    \"healthconditions___3_imp\",\n",
    "    \"healthconditions___4_imp\",\n",
    "    \"healthconditions___5_imp\",\n",
    "    \"healthconditions___6_imp\",\n",
    "    \"healthconditions___7_imp\",\n",
    "    \"healthconditions___8_imp\",\n",
    "    \"healthconditions___9_imp\",\n",
    "    \"healthconditions___10_imp\",\n",
    "    \"healthconditions___11_imp\",\n",
    "    \"healthconditions___12_imp\",\n",
    "    \"healthconditions___13_imp\",\n",
    "    \"healthconditions___14_imp\",\n",
    "    \"healthconditions___15_imp\",\n",
    "    \"healthconditions___16_imp\",\n",
    "    \"healthconditions___17_imp\",\n",
    "    \"healthconditions___18_imp\",\n",
    "    \"healthconditions___19_imp\",\n",
    "    \"healthconditions___20_imp\",\n",
    "    \"hoursofsleepweekdays_imp\",\n",
    "    \"hoursofsleepweekends_imp\",\n",
    "    \"troublesleeping_imp\",\n",
    "    \"sleepquality_imp\"\n",
    "]"
   ]
  },
  {
   "cell_type": "code",
   "execution_count": 300,
   "metadata": {},
   "outputs": [
    {
     "name": "stderr",
     "output_type": "stream",
     "text": [
      "C:\\Users\\sanji\\AppData\\Local\\Temp/ipykernel_20596/2453401777.py:3: SettingWithCopyWarning: \n",
      "A value is trying to be set on a copy of a slice from a DataFrame.\n",
      "Try using .loc[row_indexer,col_indexer] = value instead\n",
      "\n",
      "See the caveats in the documentation: https://pandas.pydata.org/pandas-docs/stable/user_guide/indexing.html#returning-a-view-versus-a-copy\n",
      "  crisis_pa_adlt_mh[\"mentalhealth\"] = crisis_pa_adlt_mh[\"mentalhealth\"].astype(int)\n"
     ]
    }
   ],
   "source": [
    "# Filter data for cases where mental health is available.\n",
    "crisis_pa_adlt_mh = crisis_pa_adlt[~pandas.isna(crisis_pa_adlt[\"mentalhealth\"])]\n",
    "crisis_pa_adlt_mh[\"mentalhealth\"] = crisis_pa_adlt_mh[\"mentalhealth\"].astype(int)"
   ]
  },
  {
   "cell_type": "code",
   "execution_count": 303,
   "metadata": {},
   "outputs": [
    {
     "name": "stdout",
     "output_type": "stream",
     "text": [
      "INFO: Training model for Mental Health - 1\n",
      "INFO: Training Metrics\n",
      "[[3461    4]\n",
      " [ 251  348]]\n",
      "INFO: Testing metrics\n",
      "[[837  18]\n",
      " [141  21]]\n",
      "0.5542884990253412\n",
      "\n",
      "INFO: Training model for Mental Health - 2\n",
      "INFO: Training Metrics\n",
      "[[2800   30]\n",
      " [ 473  761]]\n",
      "INFO: Testing metrics\n",
      "[[631  83]\n",
      " [242  61]]\n",
      "0.5425368167068807\n",
      "\n",
      "INFO: Training model for Mental Health - 3\n",
      "INFO: Training Metrics\n",
      "[[2707   22]\n",
      " [ 473  862]]\n",
      "INFO: Testing metrics\n",
      "[[605  86]\n",
      " [264  62]]\n",
      "0.53286337041542\n",
      "\n",
      "INFO: Training model for Mental Health - 4\n",
      "INFO: Training Metrics\n",
      "[[3369    3]\n",
      " [ 202  490]]\n",
      "INFO: Testing metrics\n",
      "[[795  56]\n",
      " [135  31]]\n",
      "0.5604710262908272\n",
      "\n",
      "INFO: Training model for Mental Health - 5\n",
      "INFO: Training Metrics\n",
      "[[3859    1]\n",
      " [  21  183]]\n",
      "INFO: Testing metrics\n",
      "[[946  11]\n",
      " [ 52   8]]\n",
      "0.5609195402298851\n",
      "\n"
     ]
    }
   ],
   "source": [
    "for v in crisis_pa_adlt_mh[\"mentalhealth\"].unique():\n",
    "    # Filter data for each mental health value.\n",
    "    crisis_pa_adlt_mh_1 = crisis_pa_adlt_mh.copy(True)\n",
    "    crisis_pa_adlt_mh_1[\"mh_tgt\"] = crisis_pa_adlt_mh_1[\"mentalhealth\"].apply(lambda r: 1 if r==v else 0)\n",
    "    # Print information\n",
    "    print(\"INFO: Training model for Mental Health - \" + str(v))\n",
    "    X_train, X_test, y_train, y_test = train_test_split(crisis_pa_adlt_mh_1[dmg_hlth_cols_imp], crisis_pa_adlt_mh_1[\"mh_tgt\"], test_size=0.2, random_state=100)\n",
    "    # Train a Gradient boosted classifier\n",
    "    gb_mh = GradientBoostingClassifier(learning_rate=0.05, n_estimators=500, max_depth=5)\n",
    "    gb_mh = gb_mh.fit(X_train, y_train)\n",
    "    # Predict on training and test\n",
    "    y_pred_train = gb_mh.predict(X_train)\n",
    "    y_pred_test = gb_mh.predict(X_test)\n",
    "    # Compute confusion matrix for train and test\n",
    "    cf_train = confusion_matrix(y_train, y_pred_train)\n",
    "    cf_test = confusion_matrix(y_test, y_pred_test)\n",
    "    # Test AUC\n",
    "    auc_test = roc_auc_score(y_test, y_pred_test)\n",
    "    # Print confusion matrix\n",
    "    print(\"INFO: Training Metrics\")\n",
    "    print(cf_train)\n",
    "    print(\"INFO: Testing metrics\")\n",
    "    print(cf_test)\n",
    "    print(auc_test)\n",
    "    print(\"\")\n"
   ]
  },
  {
   "cell_type": "code",
   "execution_count": 305,
   "metadata": {},
   "outputs": [
    {
     "name": "stderr",
     "output_type": "stream",
     "text": [
      "C:\\Users\\sanji\\AppData\\Local\\Temp/ipykernel_20596/147150225.py:3: SettingWithCopyWarning: \n",
      "A value is trying to be set on a copy of a slice from a DataFrame.\n",
      "Try using .loc[row_indexer,col_indexer] = value instead\n",
      "\n",
      "See the caveats in the documentation: https://pandas.pydata.org/pandas-docs/stable/user_guide/indexing.html#returning-a-view-versus-a-copy\n",
      "  crisis_pa_adlt_ph[\"physicalhealth\"] = crisis_pa_adlt_ph[\"physicalhealth\"].astype(int)\n"
     ]
    }
   ],
   "source": [
    "# Filter data for cases where mental health is available.\n",
    "crisis_pa_adlt_ph = crisis_pa_adlt[~pandas.isna(crisis_pa_adlt[\"physicalhealth\"])]\n",
    "crisis_pa_adlt_ph[\"physicalhealth\"] = crisis_pa_adlt_ph[\"physicalhealth\"].astype(int)"
   ]
  },
  {
   "cell_type": "code",
   "execution_count": 313,
   "metadata": {},
   "outputs": [
    {
     "name": "stdout",
     "output_type": "stream",
     "text": [
      "INFO: Training model for Physical Health - 2\n",
      "INFO: Training Metrics\n",
      "[[2575   62]\n",
      " [ 200 1227]]\n",
      "INFO: Testing metrics\n",
      "[[527 131]\n",
      " [234 125]]\n",
      "0.5745506345725631\n",
      "\n",
      "INFO: Training model for Physical Health - 3\n",
      "INFO: Training Metrics\n",
      "[[2531   45]\n",
      " [ 229 1259]]\n",
      "INFO: Testing metrics\n",
      "[[521 148]\n",
      " [235 113]]\n",
      "0.5517434668316066\n",
      "\n",
      "INFO: Training model for Physical Health - 1\n",
      "INFO: Training Metrics\n",
      "[[3586    3]\n",
      " [  48  427]]\n",
      "INFO: Testing metrics\n",
      "[[848  36]\n",
      " [114  19]]\n",
      "0.5510665804783451\n",
      "\n",
      "INFO: Training model for Physical Health - 4\n",
      "INFO: Training Metrics\n",
      "[[3506    0]\n",
      " [  45  513]]\n",
      "INFO: Testing metrics\n",
      "[[826  43]\n",
      " [112  36]]\n",
      "0.5968805399185145\n",
      "\n",
      "INFO: Training model for Physical Health - 5\n",
      "INFO: Training Metrics\n",
      "[[3948    0]\n",
      " [   0  116]]\n",
      "INFO: Testing metrics\n",
      "[[980   8]\n",
      " [ 28   1]]\n",
      "0.5131927963143935\n",
      "\n"
     ]
    }
   ],
   "source": [
    "for v in crisis_pa_adlt_ph[\"physicalhealth\"].unique():\n",
    "    # Filter data for each mental health value.\n",
    "    crisis_pa_adlt_ph_1 = crisis_pa_adlt_ph.copy(True)\n",
    "    crisis_pa_adlt_ph_1[\"ph_tgt\"] = crisis_pa_adlt_ph_1[\"physicalhealth\"].apply(lambda r: 1 if r==v else 0)\n",
    "    # Print information\n",
    "    print(\"INFO: Training model for Physical Health - \" + str(v))\n",
    "    X_train, X_test, y_train, y_test = train_test_split(crisis_pa_adlt_ph_1[dmg_hlth_cols_imp], crisis_pa_adlt_ph_1[\"ph_tgt\"], test_size=0.2, random_state=100)\n",
    "    # Train a Gradient boosted classifier\n",
    "    gb_mh = GradientBoostingClassifier(learning_rate=0.1, n_estimators=1000, max_depth=4)\n",
    "    gb_mh = gb_mh.fit(X_train, y_train)\n",
    "    # Predict on training and test\n",
    "    y_pred_train = gb_mh.predict(X_train)\n",
    "    y_pred_test = gb_mh.predict(X_test)\n",
    "    # Compute confusion matrix for train and test\n",
    "    cf_train = confusion_matrix(y_train, y_pred_train)\n",
    "    cf_test = confusion_matrix(y_test, y_pred_test)\n",
    "    # Test AUC\n",
    "    auc_test = roc_auc_score(y_test, y_pred_test)\n",
    "    # Print confusion matrix\n",
    "    print(\"INFO: Training Metrics\")\n",
    "    print(cf_train)\n",
    "    print(\"INFO: Testing metrics\")\n",
    "    print(cf_test)\n",
    "    print(auc_test)\n",
    "    print(\"\")\n"
   ]
  },
  {
   "cell_type": "code",
   "execution_count": 310,
   "metadata": {},
   "outputs": [
    {
     "data": {
      "text/plain": [
       "(array([0.18890326, 0.00525318, 0.00436457, 0.00666656, 0.01604078,\n",
       "        0.15479752, 0.2005008 , 0.0125825 , 0.02701068, 0.02808149,\n",
       "        0.00496811, 0.0081352 , 0.00378124, 0.0101784 , 0.00675944,\n",
       "        0.01229843, 0.01449268, 0.00143525, 0.01194944, 0.01888685,\n",
       "        0.09036721, 0.00705035, 0.00171739, 0.00792538, 0.00723214,\n",
       "        0.00406783, 0.        , 0.        , 0.0651591 , 0.0479111 ,\n",
       "        0.00477314, 0.02670999]),\n",
       " array(['age_imp', 'gender_m', 'gender_f', 'gender_o', 'gender_u',\n",
       "        'tall_cm_imp', 'weight_kg_imp', 'cigarettesyn_imp',\n",
       "        'healthconditions___1_imp', 'healthconditions___2_imp',\n",
       "        'healthconditions___3_imp', 'healthconditions___4_imp',\n",
       "        'healthconditions___5_imp', 'healthconditions___6_imp',\n",
       "        'healthconditions___7_imp', 'healthconditions___8_imp',\n",
       "        'healthconditions___9_imp', 'healthconditions___10_imp',\n",
       "        'healthconditions___11_imp', 'healthconditions___12_imp',\n",
       "        'healthconditions___13_imp', 'healthconditions___14_imp',\n",
       "        'healthconditions___15_imp', 'healthconditions___16_imp',\n",
       "        'healthconditions___17_imp', 'healthconditions___18_imp',\n",
       "        'healthconditions___19_imp', 'healthconditions___20_imp',\n",
       "        'hoursofsleepweekdays_imp', 'hoursofsleepweekends_imp',\n",
       "        'troublesleeping_imp', 'sleepquality_imp'], dtype=object))"
      ]
     },
     "execution_count": 310,
     "metadata": {},
     "output_type": "execute_result"
    }
   ],
   "source": [
    "gb_mh.feature_importances_, gb_mh.feature_names_in_"
   ]
  },
  {
   "cell_type": "code",
   "execution_count": 318,
   "metadata": {},
   "outputs": [
    {
     "name": "stdout",
     "output_type": "stream",
     "text": [
      "INFO: Training model for Physical Health - 2\n",
      "INFO: Training Metrics\n",
      "[[2620   17]\n",
      " [1282  145]]\n",
      "INFO: Testing metrics\n",
      "[[635  23]\n",
      " [344  15]]\n",
      "0.5034141612550906\n",
      "\n",
      "INFO: Training model for Physical Health - 3\n",
      "INFO: Training Metrics\n",
      "[[2555   21]\n",
      " [1310  178]]\n",
      "INFO: Testing metrics\n",
      "[[641  28]\n",
      " [329  19]]\n",
      "0.5063720942219473\n",
      "\n",
      "INFO: Training model for Physical Health - 1\n",
      "INFO: Training Metrics\n",
      "[[3588    1]\n",
      " [ 450   25]]\n",
      "INFO: Testing metrics\n",
      "[[882   2]\n",
      " [133   0]]\n",
      "0.498868778280543\n",
      "\n",
      "INFO: Training model for Physical Health - 4\n",
      "INFO: Training Metrics\n",
      "[[3500    6]\n",
      " [ 491   67]]\n",
      "INFO: Testing metrics\n",
      "[[860   9]\n",
      " [144   4]]\n",
      "0.5083351475756539\n",
      "\n",
      "INFO: Training model for Physical Health - 5\n",
      "INFO: Training Metrics\n",
      "[[3947    1]\n",
      " [ 101   15]]\n",
      "INFO: Testing metrics\n",
      "[[983   5]\n",
      " [ 28   1]]\n",
      "0.5147110149378753\n",
      "\n"
     ]
    }
   ],
   "source": [
    "for v in crisis_pa_adlt_ph[\"physicalhealth\"].unique():\n",
    "    # Filter data for each mental health value.\n",
    "    crisis_pa_adlt_ph_1 = crisis_pa_adlt_ph.copy(True)\n",
    "    crisis_pa_adlt_ph_1[\"mh_tgt\"] = crisis_pa_adlt_ph_1[\"physicalhealth\"].apply(lambda r: 1 if r==v else 0)\n",
    "    # Print information\n",
    "    print(\"INFO: Training model for Physical Health - \" + str(v))\n",
    "    X_train, X_test, y_train, y_test = train_test_split(crisis_pa_adlt_ph_1[[col + \"_imp_freq\" for col in dmg_subs_cols_imp_1]], crisis_pa_adlt_ph_1[\"mh_tgt\"], test_size=0.2, random_state=100)\n",
    "    # Train a Gradient boosted classifier\n",
    "    gb_mh = GradientBoostingClassifier(learning_rate=0.05, n_estimators=500, max_depth=5)\n",
    "    gb_mh = gb_mh.fit(X_train, y_train)\n",
    "    # Predict on training and test\n",
    "    y_pred_train = gb_mh.predict(X_train)\n",
    "    y_pred_test = gb_mh.predict(X_test)\n",
    "    # Compute confusion matrix for train and test\n",
    "    cf_train = confusion_matrix(y_train, y_pred_train)\n",
    "    cf_test = confusion_matrix(y_test, y_pred_test)\n",
    "    # Test AUC\n",
    "    auc_test = roc_auc_score(y_test, y_pred_test)\n",
    "    # Print confusion matrix\n",
    "    print(\"INFO: Training Metrics\")\n",
    "    print(cf_train)\n",
    "    print(\"INFO: Testing metrics\")\n",
    "    print(cf_test)\n",
    "    print(auc_test)\n",
    "    print(\"\")\n"
   ]
  },
  {
   "cell_type": "code",
   "execution_count": null,
   "metadata": {},
   "outputs": [],
   "source": []
  }
 ],
 "metadata": {
  "interpreter": {
   "hash": "e8e10bb94bd72e70daca3910ee5e6d2b55da05994666c8b601fd72d7cb0aee40"
  },
  "kernelspec": {
   "display_name": "Python 3.9.7 64-bit ('base': conda)",
   "language": "python",
   "name": "python3"
  },
  "language_info": {
   "codemirror_mode": {
    "name": "ipython",
    "version": 3
   },
   "file_extension": ".py",
   "mimetype": "text/x-python",
   "name": "python",
   "nbconvert_exporter": "python",
   "pygments_lexer": "ipython3",
   "version": "3.9.9"
  },
  "orig_nbformat": 4
 },
 "nbformat": 4,
 "nbformat_minor": 2
}
